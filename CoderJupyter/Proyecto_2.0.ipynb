{
 "cells": [
  {
   "cell_type": "markdown",
   "id": "d308ffa6-ec76-4339-a870-f745891d6be4",
   "metadata": {},
   "source": [
    "# Proyecto Analísis en el arrendamiento de Bicicletas en Seoul\n",
    "\n",
    "## Introduccion\n",
    "El objetivo de este proyecto es analisis y modelar las variables que tienen impacto en el arriendo de bicicletas en Seoul de tal forma poder tomar decisiciones entorno a planificación de inventario, mejorar estrategias de marketing o optimizacion de rutas y estaciones.\n",
    "\n",
    "### Hipotesis\n",
    "1. El clima es lo que genera el mayor impacto en el uso de la biciclita durante el año\n",
    "2. La exposición de luz solar incentiva el uso de bicicleta\n",
    "3. La falta de disponibilidad se debe a factores ajenos a lo que es el clima o el horario\n"
   ]
  },
  {
   "cell_type": "code",
   "execution_count": 5,
   "id": "6ecc93c6-6fc5-42db-96e1-ef7b24619e28",
   "metadata": {},
   "outputs": [],
   "source": [
    "import matplotlib.pyplot as plt\n",
    "import seaborn as sns\n",
    "import pandas as pd\n",
    "import numpy as np\n",
    "df = pd.read_csv('SeoulBikeData-Copy1.csv', encoding='latin-1')"
   ]
  },
  {
   "cell_type": "code",
   "execution_count": 6,
   "id": "d6616865-1170-4201-93f2-e65052a1ab66",
   "metadata": {},
   "outputs": [
    {
     "data": {
      "text/plain": [
       "Index(['Date', 'Rented Bike Count', 'Hour', 'Temperature(°C)', 'Humidity(%)',\n",
       "       'Wind speed (m/s)', 'Visibility (10m)', 'Dew point temperature(°C)',\n",
       "       'Solar Radiation (MJ/m2)', 'Rainfall(mm)', 'Snowfall (cm)', 'Seasons',\n",
       "       'Holiday', 'Functioning Day'],\n",
       "      dtype='object')"
      ]
     },
     "execution_count": 6,
     "metadata": {},
     "output_type": "execute_result"
    }
   ],
   "source": [
    "df.columns"
   ]
  },
  {
   "cell_type": "code",
   "execution_count": 7,
   "id": "5556d052-5885-451d-86db-38462b0d9f3d",
   "metadata": {},
   "outputs": [],
   "source": [
    "#print(df.isna().sum())\n",
    "#print(df.isnull().sum())"
   ]
  },
  {
   "cell_type": "code",
   "execution_count": null,
   "id": "74ed2e24-1466-4ce3-bb9e-2d6acbb249ac",
   "metadata": {},
   "outputs": [],
   "source": []
  }
 ],
 "metadata": {
  "kernelspec": {
   "display_name": "Python 3 (ipykernel)",
   "language": "python",
   "name": "python3"
  },
  "language_info": {
   "codemirror_mode": {
    "name": "ipython",
    "version": 3
   },
   "file_extension": ".py",
   "mimetype": "text/x-python",
   "name": "python",
   "nbconvert_exporter": "python",
   "pygments_lexer": "ipython3",
   "version": "3.11.9"
  }
 },
 "nbformat": 4,
 "nbformat_minor": 5
}
